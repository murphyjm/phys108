{
 "cells": [
  {
   "cell_type": "code",
   "execution_count": 1,
   "metadata": {},
   "outputs": [],
   "source": [
    "import nidaqmx as ni\n",
    "import nidaqmx.system\n",
    "import numpy as np\n",
    "import visa\n",
    "import time\n",
    "import matplotlib.pyplot as plt\n",
    "%matplotlib inline"
   ]
  },
  {
   "cell_type": "code",
   "execution_count": 10,
   "metadata": {},
   "outputs": [],
   "source": [
    "# print(\"Information about the NI device we're using (6014) and the driver \n",
    "#       that's installed on the lab machine for it:\\n\")\n",
    "# system = nidaqmx.system.System.local()\n",
    "# print(system.driver_version)\n",
    "\n",
    "# for device in system.devices:\n",
    "#     print(device)\n",
    "\n",
    "# voltage = []\n",
    "# with nidaqmx.Task() as task:\n",
    "    \n",
    "#     task.ai_channels.add_ai_voltage_chan(\"6014_Dev1/ai0\")\n",
    "    \n",
    "#     for t in range(50):\n",
    "#         voltage.append(task.read()) # number_of_samples_per_channel=1\n",
    "#         time.sleep(0.01)\n",
    "        \n",
    "# print(voltage)\n",
    "\n",
    "# t = range(50)\n",
    "# plt.plot(t, voltage)\n",
    "# plt.show()\n",
    "\n",
    "# nidaqmx.system.PhysicalChannel('Dev1/ai0')\n",
    "\n",
    "# from nidaqmx.constants import LineGrouping\n",
    "# with nidaqmx.Task() as task:\n",
    "#     task.di_channels.add_di_chan(\"6014_Dev1/port0/line0:1\", line_grouping=LineGrouping.CHAN_PER_LINE)\n",
    "#     print(task.read(number_of_samples_per_channel=2))"
   ]
  },
  {
   "cell_type": "markdown",
   "metadata": {},
   "source": [
    "## Now using GPIB connection instead of NI DAQ system"
   ]
  },
  {
   "cell_type": "code",
   "execution_count": 13,
   "metadata": {},
   "outputs": [],
   "source": [
    "rm = visa.ResourceManager()\n",
    "my_instrument = rm.open_resource('GPIB0::3::INSTR')"
   ]
  },
  {
   "cell_type": "code",
   "execution_count": 47,
   "metadata": {},
   "outputs": [],
   "source": [
    "time_start = time.perf_counter()\n",
    "meas_time = 10 # In seconds\n",
    "t = []\n",
    "voltage = []\n",
    "\n",
    "while time.perf_counter() <= time_start + meas_time:\n",
    "    t.append(time.perf_counter())\n",
    "    voltage.append(float(my_instrument.query('MEAS:VOLT:DC?')))\n",
    "    \n",
    "t = [x-t[0] for x in t]"
   ]
  },
  {
   "cell_type": "code",
   "execution_count": 48,
   "metadata": {},
   "outputs": [
    {
     "data": {
      "image/png": "[encoded data removed]",
      "text/plain": [
       "<matplotlib.figure.Figure at 0xfb56670>"
      ]
     },
     "metadata": {},
     "output_type": "display_data"
    }
   ],
   "source": [
    "fig, ax = plt.subplots(figsize=(9,4))\n",
    "ax.plot(t, voltage, 'o--')\n",
    "ax.set_xlabel('Time [s]', fontsize=16)\n",
    "ax.set_ylabel('Voltage [V]', fontsize=16)\n",
    "\n",
    "plt.show()"
   ]
  },
  {
   "cell_type": "code",
   "execution_count": 49,
   "metadata": {},
   "outputs": [
    {
     "name": "stdout",
     "output_type": "stream",
     "text": [
      "[0.40276125 0.40540882 0.40575142 0.40564185 0.40532943 0.40587971\n",
      " 0.40548005 0.40546828 0.40588786 0.40580243 0.40514349 0.40582296\n",
      " 0.40574569 0.40592589 0.40575836 0.40544504 0.40591442 0.40590989\n",
      " 0.405423   0.42772917 0.42732046 0.427571   0.42745659 0.42750761]\n"
     ]
    }
   ],
   "source": [
    "print(np.ediff1d(np.asarray(t)))"
   ]
  },
  {
   "cell_type": "code",
   "execution_count": null,
   "metadata": {},
   "outputs": [],
   "source": []
  }
 ],
 "metadata": {
  "kernelspec": {
   "display_name": "Python 3",
   "language": "python",
   "name": "python3"
  },
  "language_info": {
   "codemirror_mode": {
    "name": "ipython",
    "version": 3
   },
   "file_extension": ".py",
   "mimetype": "text/x-python",
   "name": "python",
   "nbconvert_exporter": "python",
   "pygments_lexer": "ipython3",
   "version": "3.6.1"
  }
 },
 "nbformat": 4,
 "nbformat_minor": 2
}
