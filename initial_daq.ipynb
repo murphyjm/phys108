{
 "cells": [
  {
   "cell_type": "markdown",
   "metadata": {},
   "source": [
    "## Notebook for data acquisition and analysis\n",
    "### Physics 108, Winter 2017-18\n",
    "#### Authors: Alex Rickman, Connor Holland, Joey Murphy"
   ]
  },
  {
   "cell_type": "code",
   "execution_count": 35,
   "metadata": {},
   "outputs": [],
   "source": [
    "import nidaqmx as ni\n",
    "import nidaqmx.system\n",
    "import numpy as np\n",
    "import visa\n",
    "import time\n",
    "import matplotlib.pyplot as plt\n",
    "%matplotlib inline"
   ]
  },
  {
   "cell_type": "code",
   "execution_count": 10,
   "metadata": {},
   "outputs": [],
   "source": [
    "# print(\"Information about the NI device we're using (6014) and the driver \n",
    "#       that's installed on the lab machine for it:\\n\")\n",
    "# system = nidaqmx.system.System.local()\n",
    "# print(system.driver_version)\n",
    "\n",
    "# for device in system.devices:\n",
    "#     print(device)\n",
    "\n",
    "# voltage = []\n",
    "# with nidaqmx.Task() as task:\n",
    "    \n",
    "#     task.ai_channels.add_ai_voltage_chan(\"6014_Dev1/ai0\")\n",
    "    \n",
    "#     for t in range(50):\n",
    "#         voltage.append(task.read()) # number_of_samples_per_channel=1\n",
    "#         time.sleep(0.01)\n",
    "        \n",
    "# print(voltage)0\n",
    "# plt.plot(t, voltage)\n",
    "# plt.show()\n",
    "\n",
    "# nidaqmx.system.PhysicalChannel('Dev1/ai0')\n",
    "\n",
    "# from nidaqmx.constants import LineGrouping\n",
    "# with nidaqmx.Task() as task:\n",
    "#     task.di_channels.add_di_chan(\"6014_Dev1/port0/line0:1\", line_grouping=LineGrouping.CHAN_PER_LINE)\n",
    "#     print(task.read(number_of_samples_per_channel=2))"
   ]
  },
  {
   "cell_type": "markdown",
   "metadata": {},
   "source": [
    "## Now using GPIB connection instead of NI DAQ system"
   ]
  },
  {
   "cell_type": "code",
   "execution_count": 4,
   "metadata": {},
   "outputs": [],
   "source": [
    "rm = visa.ResourceManager()\n",
    "instr_top    = rm.open_resource('GPIB0::2::INSTR')\n",
    "instr_bottom = rm.open_resource('GPIB0::3::INSTR')"
   ]
  },
  {
   "cell_type": "code",
   "execution_count": 32,
   "metadata": {},
   "outputs": [],
   "source": [
    "time_start = time.perf_counter()\n",
    "meas_time = 10 # In seconds\n",
    "\n",
    "t_top = []\n",
    "t_bottom = []\n",
    "voltage_top = []\n",
    "voltage_bottom = []\n",
    "\n",
    "while time.perf_counter() <= time_start + meas_time:\n",
    "    t_top.append(time.perf_counter())\n",
    "    voltage_top.append(float(instr_top.query('MEAS:VOLT:DC?')))\n",
    "    \n",
    "    t_bottom.append(time.perf_counter())\n",
    "    voltage_bottom.append(float(instr_bottom.query('MEAS:VOLT:DC?')))\n",
    "\n",
    "# Set measurement start time to zero. Convert lists to numpy arrays so they're easier to work with\n",
    "t_top = np.asarray(t_top) - time_start\n",
    "t_bottom = np.asarray(t_bottom) - time_start\n",
    "voltage_top = np.asarray(voltage_top)\n",
    "voltage_bottom = np.asarray(voltage_bottom)\n",
    "\n",
    "# Zip the data together so it's in the format [(t_0, v_0), (t_1 , v_1), ..., (t_N, v_N)]\n",
    "data_top = np.array(list(zip(t_top, voltage_top)))\n",
    "data_bottom = np.array(list(zip(t_bottom, voltage_bottom)))\n",
    "\n",
    "# Save the data to .txt files\n",
    "np.savetxt('data_top_0.txt', data_top)\n",
    "np.savetxt('data_bottom_0.txt', data_bottom)"
   ]
  },
  {
   "cell_type": "code",
   "execution_count": 33,
   "metadata": {},
   "outputs": [],
   "source": [
    "# Use this cell to load data from a file if you want to do postprocessing on it\n",
    "# Uncomment and change variable/file names if needed\n",
    "# t_top, voltage_top = np.loadtxt('data_top_0.txt', unpack=True)\n",
    "# t_bottom, voltage_bottom = np.loadtxt('data_bottom_0.txt', unpack=True)"
   ]
  },
  {
   "cell_type": "code",
   "execution_count": 36,
   "metadata": {},
   "outputs": [
    {
     "data": {
      "image/png": "[encoded data removed]",
      "text/plain": [
       "<matplotlib.figure.Figure at 0xfa59dd0>"
      ]
     },
     "metadata": {},
     "output_type": "display_data"
    }
   ],
   "source": [
    "fig, ax = plt.subplots(figsize=(9,4))\n",
    "ax.scatter(t_top, voltage_top, marker='.', color='blue', label='instr_top')\n",
    "ax.scatter(t_bottom, voltage_bottom, marker='.', color='red', label='instr_bottom')\n",
    "\n",
    "ax.set_xlabel('Time [s]', fontsize=16)\n",
    "ax.set_ylabel('Voltage [V]', fontsize=16)\n",
    "ax.legend()\n",
    "\n",
    "plt.show()"
   ]
  },
  {
   "cell_type": "code",
   "execution_count": null,
   "metadata": {},
   "outputs": [],
   "source": []
  }
 ],
 "metadata": {
  "kernelspec": {
   "display_name": "Python 3",
   "language": "python",
   "name": "python3"
  },
  "language_info": {
   "codemirror_mode": {
    "name": "ipython",
    "version": 3
   },
   "file_extension": ".py",
   "mimetype": "text/x-python",
   "name": "python",
   "nbconvert_exporter": "python",
   "pygments_lexer": "ipython3",
   "version": "3.6.1"
  }
 },
 "nbformat": 4,
 "nbformat_minor": 2
}
