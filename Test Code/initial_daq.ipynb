{
 "cells": [
  {
   "cell_type": "markdown",
   "metadata": {},
   "source": [
    "## Notebook for data acquisition and analysis\n",
    "### Physics 108, Winter 2017-18\n",
    "#### Authors: Alex Rickman, Connor Holland, Joey Murphy"
   ]
  },
  {
   "cell_type": "code",
   "execution_count": 1,
   "metadata": {},
   "outputs": [],
   "source": [
    "import numpy as np\n",
    "import visa\n",
    "import time\n",
    "import json\n",
    "import matplotlib.pyplot as plt\n",
    "%matplotlib inline"
   ]
  },
  {
   "cell_type": "markdown",
   "metadata": {},
   "source": [
    "### Data acquisition via GPIB"
   ]
  },
  {
   "cell_type": "markdown",
   "metadata": {},
   "source": [
    "Data is being acquired using two HP 34401A DMMs in parallel, making sequential voltage measurements of the reference and signal."
   ]
  },
  {
   "cell_type": "code",
   "execution_count": 12,
   "metadata": {},
   "outputs": [],
   "source": [
    "# Run this cell to load the lab setup instruments. \n",
    "rm = visa.ResourceManager()\n",
    "instr_ref    = rm.open_resource('GPIB0::2::INSTR') # DMM measuring function generator output\n",
    "instr_signal = rm.open_resource('GPIB0::3::INSTR') # DMM measuring signal output\n",
    "scope = rm.open_resource('GPIB0::7::INSTR')        # Oscilloscope"
   ]
  },
  {
   "cell_type": "code",
   "execution_count": 18,
   "metadata": {},
   "outputs": [],
   "source": [
    "# Dictionary that holds values for parameters in our lab setup\n",
    "lab_params = {'srs_gain':1.0*10e4, 'ref_ampl_Vpp':20.0, 'ref_freq_Hz':0.5, 'box_resistor':9.96 * 10e4, 'low_pass_cut_Hz':3.0, \n",
    "             'low_pass_roll_dB':12.0, 'high_pass_cut_Hz':None, 'high_pass_roll_dB':None}"
   ]
  },
  {
   "cell_type": "code",
   "execution_count": 17,
   "metadata": {},
   "outputs": [],
   "source": [
    "# Save lab parameters to file. Not necessary to run\n",
    "with open('lab_params_{}.json'.format(time.strftime(\"%m_%d_%Y-%H_%M_%S\")), 'w') as fp:\n",
    "    json.dump(lab_params, fp, sort_keys=True, indent=4)"
   ]
  },
  {
   "cell_type": "code",
   "execution_count": null,
   "metadata": {},
   "outputs": [],
   "source": [
    "# Load the parameters from a stored lab set up\n",
    "with open('PARAM_FILENAME.json', 'r') as fp:\n",
    "    lab_params = json.load(fp)"
   ]
  },
  {
   "cell_type": "code",
   "execution_count": 24,
   "metadata": {},
   "outputs": [],
   "source": [
    "# Call this function to take sequential voltage measurements of reference and signal for a time meas_time (in seconds)\n",
    "\n",
    "def take_data(instr_ref, instr_signal, lab_params, meas_time=60*2, save_to_file=True, filename=None):\n",
    "\n",
    "    time_start = time.perf_counter()\n",
    "    time_stop = time_start + meas_time\n",
    "    \n",
    "    # Lists to hold the measurement data\n",
    "    t_ref = []\n",
    "    t_signal = []\n",
    "    voltage_ref = []\n",
    "    voltage_signal = []\n",
    "    \n",
    "    # Take sequential voltage measurements\n",
    "    while time.perf_counter() <= time_stop:\n",
    "        \n",
    "        # Note the time and take a measurement of the reference voltage\n",
    "        t_ref.append(time.perf_counter())\n",
    "        voltage_ref.append(float(instr_ref.query('MEAS:VOLT:DC?')))\n",
    "        \n",
    "        # Note the time and take a measurement of the signal voltage\n",
    "        t_signal.append(time.perf_counter())\n",
    "        voltage_signal.append(float(instr_signal.query('MEAS:VOLT:DC?')))\n",
    "\n",
    "    # Set measurement start time to zero. Convert data lists to numpy arrays so they're easier to work with.\n",
    "    t_ref = np.asarray(t_ref) - time_start\n",
    "    t_signal = np.asarray(t_signal) - time_start\n",
    "    voltage_ref = np.asarray(voltage_ref)\n",
    "    voltage_signal = np.asarray(voltage_signal)\n",
    "    \n",
    "    # Scale the signal voltage depending on the gain of the SRS pre-amp\n",
    "    voltage_signal = (1/lab_params['srs_gain']) * voltage_signal\n",
    "\n",
    "    # Zip the data together so it's in the format [(t_0, v_0), (t_1 , v_1), ..., (t_N, v_N)]\n",
    "    data_ref = np.array(list(zip(t_ref, voltage_ref)))\n",
    "    data_signal = np.array(list(zip(t_signal, voltage_signal)))\n",
    "    \n",
    "    # If the user would like to save the data to .txt file\n",
    "    if save_to_file:\n",
    "        \n",
    "        # If the user did not specifiy a filename they'd like to use, just save it to an arbitrary file.\n",
    "        if filename is None:\n",
    "            timestr = time.strftime(\"%m_%d_%Y-%H_%M_%S\")\n",
    "            # Save the data to .txt files\n",
    "            np.savetxt('data/{}_ref.txt'.format(timestr), data_ref)\n",
    "            np.savetxt('data/{}_signal.txt'.format(timestr), data_signal)\n",
    "        \n",
    "        # If the client specified their own filename they'd like to use\n",
    "        elif filename is not None:\n",
    "            np.savetxt(filename + '_ref.txt', data_ref)\n",
    "            np.savetxt(filename + '_signal.txt', data_signal)\n",
    "            \n",
    "    return data_ref, data_signal"
   ]
  },
  {
   "cell_type": "code",
   "execution_count": 25,
   "metadata": {},
   "outputs": [],
   "source": [
    "# Run this cell to take data\n",
    "data_ref, data_signal = take_data(instr_ref, instr_signal, lab_params, meas_time=60*1) # Initially take 2 min of data"
   ]
  },
  {
   "cell_type": "code",
   "execution_count": 37,
   "metadata": {},
   "outputs": [
    {
     "data": {
      "image/png": "[encoded data removed]",
      "text/plain": [
       "<matplotlib.figure.Figure at 0xf94f5b0>"
      ]
     },
     "metadata": {},
     "output_type": "display_data"
    }
   ],
   "source": [
    "plot_data(data_ref, data_signal, lab_params)"
   ]
  },
  {
   "cell_type": "code",
   "execution_count": 2,
   "metadata": {},
   "outputs": [],
   "source": [
    "# Use this cell to load data from a file if you want to do postprocessing on it\n",
    "##### Uncomment and change variable/file names if needed #####\n",
    "# t_ref, voltage_ref = np.loadtxt('FILENAME.txt', unpack=True)\n",
    "# t_signal, voltage_signal = np.loadtxt('FILENAME.txt', unpack=True)"
   ]
  },
  {
   "cell_type": "code",
   "execution_count": 36,
   "metadata": {},
   "outputs": [],
   "source": [
    "# Plot the data\n",
    "def plot_data(data_ref, data_signal, lab_params, save_fig=True, filename=None):\n",
    "    \n",
    "    # Declare a figure for plotting\n",
    "    fig, ax = plt.subplots(figsize=(9,4))\n",
    "    \n",
    "    # Unpack the data\n",
    "    t_ref, voltage_ref = zip(*data_ref)\n",
    "    t_signal, voltage_signal = zip(*data_signal)\n",
    "    \n",
    "    # Apply the correct scaling so that we can plot both signals in real units\n",
    "    # TODO:\n",
    "    # 0000000000000000000000000000000000000\n",
    "    # Get the correct constants from the lab_params dictionary\n",
    "    \n",
    "    # Plot the data on a scatter plot\n",
    "    ax.scatter(t_ref, voltage_ref, marker='.', color='blue', label='instr_ref')\n",
    "    ax.scatter(t_signal, voltage_signal, marker='.', color='red', label='instr_signal (scaled)')\n",
    "\n",
    "    # Reference line at 0 Volts\n",
    "    ax.plot(np.linspace(-0.25, max(t_signal) + 0.25, 100), np.zeros(100), '--', color='gray', alpha=0.5)\n",
    "\n",
    "    # Set labels for axes\n",
    "    ax.set_xlabel('Time [s]', fontsize=16)\n",
    "    ax.set_ylabel('Voltage [V]', fontsize=16)\n",
    "    ax.set_ylim([-1*10e-8, 10e8])\n",
    "    ax.legend()\n",
    "    \n",
    "    # If the user would like to save the figure to file\n",
    "    if save_fig:\n",
    "        \n",
    "        # If the user did not specifiy a filename they'd like to use, just save it to an arbitrary file.\n",
    "        if filename is None:\n",
    "            timestr = time.strftime(\"%m_%d_%Y-%H_%M_%S\")\n",
    "            # Save the data to .txt files\n",
    "            fig.savefig('figures/{}_data_plot.pdf'.format(timestr))\n",
    "        \n",
    "        # If the client specified their own filename they'd like to use\n",
    "        elif filename is not None:\n",
    "            fig.savefig('figures/' + filename + '_data_plot.pdf')\n",
    "            \n",
    "    plt.show()"
   ]
  },
  {
   "cell_type": "code",
   "execution_count": null,
   "metadata": {},
   "outputs": [],
   "source": []
  }
 ],
 "metadata": {
  "kernelspec": {
   "display_name": "Python 3",
   "language": "python",
   "name": "python3"
  },
  "language_info": {
   "codemirror_mode": {
    "name": "ipython",
    "version": 3
   },
   "file_extension": ".py",
   "mimetype": "text/x-python",
   "name": "python",
   "nbconvert_exporter": "python",
   "pygments_lexer": "ipython3",
   "version": "3.6.1"
  }
 },
 "nbformat": 4,
 "nbformat_minor": 2
}
