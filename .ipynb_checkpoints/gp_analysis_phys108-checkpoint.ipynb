{
 "cells": [
  {
   "cell_type": "code",
   "execution_count": 1,
   "metadata": {
    "collapsed": true
   },
   "outputs": [],
   "source": [
    "import numpy as np\n",
    "\n",
    "import scipy as sp\n",
    "from scipy import linalg\n",
    "from scipy.optimize import fmin\n",
    "from scipy import stats\n",
    "from scipy.optimize import minimize\n",
    "\n",
    "from IPython.core.debugger import Tracer\n",
    "\n",
    "import sys\n",
    "from datetime import datetime\n",
    "\n",
    "import celerite\n",
    "from celerite import terms\n",
    "\n",
    "import matplotlib.pyplot as plt\n",
    "from mpl_toolkits.mplot3d import Axes3D as plt3d\n",
    "import matplotlib.cm as cm\n",
    "from matplotlib.colors import LogNorm\n",
    "%matplotlib inline"
   ]
  },
  {
   "cell_type": "code",
   "execution_count": 38,
   "metadata": {
    "collapsed": false
   },
   "outputs": [],
   "source": [
    "def load_data(filename):\n",
    "    data = np.loadtxt(filename, unpack=True, skiprows=1)\n",
    "    n = data.shape[1]\n",
    "    time, v_ref, v_signal = data\n",
    "    time = time.reshape((n, 1))\n",
    "    v_ref = v_ref.reshape((n, 1))\n",
    "    v_signal = v_signal.reshape((n, 1))\n",
    "    \n",
    "    return time, v_ref, v_signal"
   ]
  },
  {
   "cell_type": "code",
   "execution_count": 20,
   "metadata": {
    "collapsed": true
   },
   "outputs": [],
   "source": [
    "def neg_log_like(params, y, gp):\n",
    "    gp.set_parameter_vector(params)\n",
    "    return -gp.log_likelihood(y)"
   ]
  },
  {
   "cell_type": "code",
   "execution_count": 21,
   "metadata": {
    "collapsed": true
   },
   "outputs": [],
   "source": [
    "def grad_neg_log_like(params, y, gp):\n",
    "    gp.set_parameter_vector(params)\n",
    "    return -gp.grad_log_likelihood(y)[1]"
   ]
  },
  {
   "cell_type": "code",
   "execution_count": 39,
   "metadata": {
    "collapsed": false
   },
   "outputs": [],
   "source": [
    "time, v_ref, v_signal = load_data('data/180301_TSeries.txt')"
   ]
  },
  {
   "cell_type": "code",
   "execution_count": 50,
   "metadata": {
    "collapsed": false
   },
   "outputs": [],
   "source": [
    "v_data = zip(list(v_ref), list(v_signal))\n",
    "v_data = sorted(v_data, key=lambda x: x[0])\n",
    "v_ref, v_signal = zip(*v_data)\n",
    "v_ref = np.asarray(v_ref)\n",
    "v_signal = np.asarray(v_signal)"
   ]
  },
  {
   "cell_type": "code",
   "execution_count": 51,
   "metadata": {
    "collapsed": true
   },
   "outputs": [],
   "source": [
    "v_sigma_temp = (0.1 * np.ones(n)).reshape((n, 1))"
   ]
  },
  {
   "cell_type": "code",
   "execution_count": 67,
   "metadata": {
    "collapsed": false
   },
   "outputs": [],
   "source": [
    "v_ref = v_ref.flatten()\n",
    "v_signal = v_signal.flatten()\n",
    "v_simga_temp = v_sigma_temp.flatten()"
   ]
  },
  {
   "cell_type": "code",
   "execution_count": 78,
   "metadata": {
    "collapsed": false
   },
   "outputs": [
    {
     "name": "stdout",
     "output_type": "stream",
     "text": [
      "Building GP template...\n",
      "Warning: Maximum number of function evaluations has been exceeded.\n"
     ]
    },
    {
     "name": "stderr",
     "output_type": "stream",
     "text": [
      "/Users/josephmurphy/anaconda/lib/python3.5/site-packages/ipykernel/__main__.py:19: RuntimeWarning: invalid value encountered in sqrt\n"
     ]
    },
    {
     "data": {
      "image/png": "[encoded data removed]",
      "text/plain": [
       "<matplotlib.figure.Figure at 0x1221a2f60>"
      ]
     },
     "metadata": {},
     "output_type": "display_data"
    }
   ],
   "source": [
    "# Build the GP Kernel\n",
    "print(\"Building GP template...\")\n",
    "bounds = dict(log_a=(None, None), log_c=(None, None))\n",
    "kernel = terms.Matern32Term(log_sigma=np.log(np.var(v_signal)), log_rho=np.log(np.var(v_signal)))\n",
    "gp = celerite.GP(kernel, mean=np.mean(v_signal), fit_mean=False)\n",
    "gp.compute(v_ref)#, v_sigma_temp, check_sorted=False)\n",
    "\n",
    "# Build the celerite gp model on the template data\n",
    "# Fit for the maximum likelihood parameters\n",
    "initial_params = gp.get_parameter_vector()\n",
    "bounds = gp.get_parameter_bounds()\n",
    "opt_hyparams = fmin(neg_log_like, initial_params, args=(v_signal, gp))\n",
    "gp.set_parameter_vector(opt_hyparams)\n",
    "gp.compute(v_ref, check_sorted=True)# v_sigma_temp, check_sorted=True)\n",
    "\n",
    "# Make the GP prediction\n",
    "v_predict = np.linspace(-10, 10, 1000)\n",
    "mu_gp, var = gp.predict(v_signal, v_predict, return_var=True)\n",
    "stdv_gp = np.sqrt(var)\n",
    "\n",
    "fig, ax = plt.subplots()\n",
    "#ax.set_ylim([-1.0, 0.1])\n",
    "ax.scatter(v_ref, v_signal, color='blue', alpha=0.25)\n",
    "ax.scatter(v_predict, mu_gp, color='red')\n",
    "plt.show()"
   ]
  },
  {
   "cell_type": "markdown",
   "metadata": {},
   "source": [
    "#### To try:\n",
    "- Gaussian filter?\n",
    "- Simple spline?"
   ]
  },
  {
   "cell_type": "code",
   "execution_count": null,
   "metadata": {
    "collapsed": true
   },
   "outputs": [],
   "source": []
  }
 ],
 "metadata": {
  "kernelspec": {
   "display_name": "Python 3",
   "language": "python",
   "name": "python3"
  },
  "language_info": {
   "codemirror_mode": {
    "name": "ipython",
    "version": 3
   },
   "file_extension": ".py",
   "mimetype": "text/x-python",
   "name": "python",
   "nbconvert_exporter": "python",
   "pygments_lexer": "ipython3",
   "version": "3.5.3"
  }
 },
 "nbformat": 4,
 "nbformat_minor": 0
}
