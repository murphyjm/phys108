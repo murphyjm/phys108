{
 "cells": [
  {
   "cell_type": "markdown",
   "metadata": {},
   "source": [
    "### Notebook for experimenting/debugging data reduction related stuff and doing initial data analysis"
   ]
  },
  {
   "cell_type": "code",
   "execution_count": 1,
   "metadata": {
    "collapsed": false
   },
   "outputs": [],
   "source": [
    "from data_reduction import DataSheet, xlsx_temp_series, xlsx_modulation, df_label_names\n",
    "import numpy as np\n",
    "import matplotlib.pyplot as plt"
   ]
  },
  {
   "cell_type": "code",
   "execution_count": 17,
   "metadata": {
    "collapsed": false
   },
   "outputs": [],
   "source": [
    "# temp_series_sheet_0 = DataSheet(xlsx_modulation, 'temperature series'.format(sheet_num))"
   ]
  },
  {
   "cell_type": "code",
   "execution_count": 2,
   "metadata": {
    "collapsed": true
   },
   "outputs": [],
   "source": [
    "# Define constants\n",
    "NUM_SHEETS_MOD = 32\n",
    "NUM_SHEETS_TEMP = 8"
   ]
  },
  {
   "cell_type": "code",
   "execution_count": 3,
   "metadata": {
    "collapsed": true
   },
   "outputs": [],
   "source": [
    "# Create a list of DataSheet objects for the flux bias current/modulation Excel sheet\n",
    "mod_DataSheets = []\n",
    "for j in range(NUM_SHEETS_MOD):\n",
    "    mod_DataSheets.append(DataSheet(xlsx_modulation, 'modulation', sheet_num = j))\n",
    "    \n",
    "temp_DataSheets = []\n",
    "for j in range(NUM_SHEETS_TEMP):\n",
    "    temp_DataSheets.append(DataSheet(xlsx_temp_series, 'temperature series', sheet_num = j))"
   ]
  },
  {
   "cell_type": "code",
   "execution_count": null,
   "metadata": {
    "collapsed": true
   },
   "outputs": [],
   "source": []
  }
 ],
 "metadata": {
  "kernelspec": {
   "display_name": "Python 3",
   "language": "python",
   "name": "python3"
  },
  "language_info": {
   "codemirror_mode": {
    "name": "ipython",
    "version": 3
   },
   "file_extension": ".py",
   "mimetype": "text/x-python",
   "name": "python",
   "nbconvert_exporter": "python",
   "pygments_lexer": "ipython3",
   "version": "3.5.3"
  }
 },
 "nbformat": 4,
 "nbformat_minor": 0
}
