{
 "cells": [
  {
   "cell_type": "markdown",
   "metadata": {},
   "source": [
    "### Notebook for experimenting/debugging data reduction related stuff and doing initial data analysis"
   ]
  },
  {
   "cell_type": "code",
   "execution_count": 1,
   "metadata": {
    "collapsed": false
   },
   "outputs": [],
   "source": [
    "from data_reduction import DataSheet, xlsx_temp_series, xlsx_modulation, df_label_names\n",
    "import numpy as np\n",
    "import matplotlib.pyplot as plt\n",
    "%matplotlib inline\n",
    "from IPython.core.debugger import Tracer"
   ]
  },
  {
   "cell_type": "code",
   "execution_count": 17,
   "metadata": {
    "collapsed": false
   },
   "outputs": [],
   "source": [
    "# temp_series_sheet_0 = DataSheet(xlsx_modulation, 'temperature series'.format(sheet_num))"
   ]
  },
  {
   "cell_type": "code",
   "execution_count": 2,
   "metadata": {
    "collapsed": true
   },
   "outputs": [],
   "source": [
    "# Define constants\n",
    "NUM_SHEETS_MOD = 32\n",
    "NUM_SHEETS_TEMP = 8"
   ]
  },
  {
   "cell_type": "code",
   "execution_count": 5,
   "metadata": {
    "collapsed": true
   },
   "outputs": [],
   "source": [
    "# Create a list of DataSheet objects for the flux bias current/modulation Excel sheet\n",
    "mod_DataSheets = []\n",
    "for j in range(NUM_SHEETS_MOD):\n",
    "    mod_DataSheets.append(DataSheet(xlsx_modulation, 'modulation', sheet_num = j))\n",
    "    \n",
    "temp_DataSheets = []\n",
    "# for j in range(NUM_SHEETS_TEMP):\n",
    "#     temp_DataSheets.append(DataSheet(xlsx_temp_series, 'temperature series', sheet_num = j))"
   ]
  },
  {
   "cell_type": "code",
   "execution_count": 6,
   "metadata": {
    "collapsed": false
   },
   "outputs": [],
   "source": [
    "# Mean subtract\n",
    "for sheet in mod_DataSheets:\n",
    "    sheet.mean_subtract()\n",
    "\n",
    "for sheet in temp_DataSheets:\n",
    "    sheet.mean_subtract()"
   ]
  },
  {
   "cell_type": "code",
   "execution_count": 7,
   "metadata": {
    "collapsed": true
   },
   "outputs": [],
   "source": [
    "# Combine the three sets for each sheet\n",
    "for sheet in mod_DataSheets:\n",
    "    sheet.combine_sets()\n",
    "\n",
    "for sheet in temp_DataSheets:\n",
    "    sheet.combine_sets()"
   ]
  },
  {
   "cell_type": "code",
   "execution_count": 12,
   "metadata": {
    "collapsed": true
   },
   "outputs": [],
   "source": [
    "# Window Average to down sample\n",
    "for sheet in mod_DataSheets:\n",
    "    sheet.combined_set = sheet.window_avg(sheet.combined_set, n=10)\n",
    "\n",
    "for sheet in temp_DataSheets:\n",
    "    sheet.combined_set = sheet.window_avg(sheet.combined_set, n=10)"
   ]
  },
  {
   "cell_type": "code",
   "execution_count": 13,
   "metadata": {
    "collapsed": false
   },
   "outputs": [
    {
     "name": "stdout",
     "output_type": "stream",
     "text": [
      "15\n"
     ]
    }
   ],
   "source": [
    "print(len(mod_DataSheets[0].combined_set))"
   ]
  },
  {
   "cell_type": "code",
   "execution_count": 18,
   "metadata": {
    "collapsed": false,
    "scrolled": true
   },
   "outputs": [
    {
     "name": "stdout",
     "output_type": "stream",
     "text": [
      "None\n",
      "> \u001b[0;32m<ipython-input-18-be85e9312e70>\u001b[0m(5)\u001b[0;36m<module>\u001b[0;34m()\u001b[0m\n",
      "\u001b[0;32m      1 \u001b[0;31m\u001b[0mmod_no_linear_trend_list\u001b[0m \u001b[0;34m=\u001b[0m \u001b[0;34m[\u001b[0m\u001b[0;34m]\u001b[0m\u001b[0;34m\u001b[0m\u001b[0m\n",
      "\u001b[0m\u001b[0;32m      2 \u001b[0;31m\u001b[0;34m\u001b[0m\u001b[0m\n",
      "\u001b[0m\u001b[0;32m      3 \u001b[0;31m\u001b[0;32mfor\u001b[0m \u001b[0msheet\u001b[0m \u001b[0;32min\u001b[0m \u001b[0mmod_DataSheets\u001b[0m\u001b[0;34m:\u001b[0m\u001b[0;34m\u001b[0m\u001b[0m\n",
      "\u001b[0m\u001b[0;32m      4 \u001b[0;31m    \u001b[0mTracer\u001b[0m\u001b[0;34m(\u001b[0m\u001b[0;34m)\u001b[0m\u001b[0;34m(\u001b[0m\u001b[0;34m)\u001b[0m\u001b[0;34m\u001b[0m\u001b[0m\n",
      "\u001b[0m\u001b[0;32m----> 5 \u001b[0;31m    \u001b[0mmod_no_linear_trend_list\u001b[0m\u001b[0;34m.\u001b[0m\u001b[0mappend\u001b[0m\u001b[0;34m(\u001b[0m\u001b[0msheet\u001b[0m\u001b[0;34m.\u001b[0m\u001b[0mlinear_gnd_trend\u001b[0m\u001b[0;34m(\u001b[0m\u001b[0msheet\u001b[0m\u001b[0;34m.\u001b[0m\u001b[0mcombined_set\u001b[0m\u001b[0;34m)\u001b[0m\u001b[0;34m)\u001b[0m\u001b[0;34m\u001b[0m\u001b[0m\n",
      "\u001b[0m\n",
      "ipdb> s\n",
      "--Call--\n",
      "> \u001b[0;32m/Users/josephmurphy/Documents/Stanford/Physics 108 (Winter 2018)/physics108/data_reduction.py\u001b[0m(171)\u001b[0;36mlinear_gnd_trend\u001b[0;34m()\u001b[0m\n",
      "\u001b[0;32m    169 \u001b[0;31m\u001b[0;34m\u001b[0m\u001b[0m\n",
      "\u001b[0m\u001b[0;32m    170 \u001b[0;31m        \u001b[0;31m# Computes the linear grounding trend that is seen in the modulation series. Returns a set with it removed and the fit characteristics\u001b[0m\u001b[0;34m\u001b[0m\u001b[0;34m\u001b[0m\u001b[0m\n",
      "\u001b[0m\u001b[0;32m--> 171 \u001b[0;31m        \u001b[0;32mdef\u001b[0m \u001b[0mlinear_gnd_trend\u001b[0m\u001b[0;34m(\u001b[0m\u001b[0mself\u001b[0m\u001b[0;34m,\u001b[0m \u001b[0mdata_set\u001b[0m\u001b[0;34m)\u001b[0m\u001b[0;34m:\u001b[0m\u001b[0;34m\u001b[0m\u001b[0m\n",
      "\u001b[0m\u001b[0;32m    172 \u001b[0;31m\u001b[0;34m\u001b[0m\u001b[0m\n",
      "\u001b[0m\u001b[0;32m    173 \u001b[0;31m                \u001b[0mloc_1\u001b[0m\u001b[0;34m,\u001b[0m \u001b[0mloc_2\u001b[0m \u001b[0;34m=\u001b[0m \u001b[0mself\u001b[0m\u001b[0;34m.\u001b[0m\u001b[0mfind_kink_locs\u001b[0m\u001b[0;34m(\u001b[0m\u001b[0mdata_set\u001b[0m\u001b[0;34m)\u001b[0m\u001b[0;34m\u001b[0m\u001b[0m\n",
      "\u001b[0m\n",
      "ipdb> s\n",
      "> \u001b[0;32m/Users/josephmurphy/Documents/Stanford/Physics 108 (Winter 2018)/physics108/data_reduction.py\u001b[0m(173)\u001b[0;36mlinear_gnd_trend\u001b[0;34m()\u001b[0m\n",
      "\u001b[0;32m    171 \u001b[0;31m        \u001b[0;32mdef\u001b[0m \u001b[0mlinear_gnd_trend\u001b[0m\u001b[0;34m(\u001b[0m\u001b[0mself\u001b[0m\u001b[0;34m,\u001b[0m \u001b[0mdata_set\u001b[0m\u001b[0;34m)\u001b[0m\u001b[0;34m:\u001b[0m\u001b[0;34m\u001b[0m\u001b[0m\n",
      "\u001b[0m\u001b[0;32m    172 \u001b[0;31m\u001b[0;34m\u001b[0m\u001b[0m\n",
      "\u001b[0m\u001b[0;32m--> 173 \u001b[0;31m                \u001b[0mloc_1\u001b[0m\u001b[0;34m,\u001b[0m \u001b[0mloc_2\u001b[0m \u001b[0;34m=\u001b[0m \u001b[0mself\u001b[0m\u001b[0;34m.\u001b[0m\u001b[0mfind_kink_locs\u001b[0m\u001b[0;34m(\u001b[0m\u001b[0mdata_set\u001b[0m\u001b[0;34m)\u001b[0m\u001b[0;34m\u001b[0m\u001b[0m\n",
      "\u001b[0m\u001b[0;32m    174 \u001b[0;31m\u001b[0;34m\u001b[0m\u001b[0m\n",
      "\u001b[0m\u001b[0;32m    175 \u001b[0;31m                \u001b[0mchan_1\u001b[0m\u001b[0;34m,\u001b[0m \u001b[0mchan_2\u001b[0m \u001b[0;34m=\u001b[0m \u001b[0mzip\u001b[0m\u001b[0;34m(\u001b[0m\u001b[0;34m*\u001b[0m\u001b[0mdata_set\u001b[0m\u001b[0;34m)\u001b[0m\u001b[0;34m\u001b[0m\u001b[0m\n",
      "\u001b[0m\n",
      "ipdb> s\n",
      "--Call--\n",
      "> \u001b[0;32m/Users/josephmurphy/Documents/Stanford/Physics 108 (Winter 2018)/physics108/data_reduction.py\u001b[0m(128)\u001b[0;36mfind_kink_locs\u001b[0;34m()\u001b[0m\n",
      "\u001b[0;32m    126 \u001b[0;31m        \u001b[0;31m# Helper function for linear_gnd_trend()\u001b[0m\u001b[0;34m\u001b[0m\u001b[0;34m\u001b[0m\u001b[0m\n",
      "\u001b[0m\u001b[0;32m    127 \u001b[0;31m        \u001b[0;31m# Don't call as a client. Should be private.\u001b[0m\u001b[0;34m\u001b[0m\u001b[0;34m\u001b[0m\u001b[0m\n",
      "\u001b[0m\u001b[0;32m--> 128 \u001b[0;31m        \u001b[0;32mdef\u001b[0m \u001b[0mfind_kink_locs\u001b[0m\u001b[0;34m(\u001b[0m\u001b[0mself\u001b[0m\u001b[0;34m,\u001b[0m \u001b[0mdata_set\u001b[0m\u001b[0;34m)\u001b[0m\u001b[0;34m:\u001b[0m\u001b[0;34m\u001b[0m\u001b[0m\n",
      "\u001b[0m\u001b[0;32m    129 \u001b[0;31m\u001b[0;34m\u001b[0m\u001b[0m\n",
      "\u001b[0m\u001b[0;32m    130 \u001b[0;31m                \u001b[0mchan_1\u001b[0m\u001b[0;34m,\u001b[0m \u001b[0mchan_2\u001b[0m \u001b[0;34m=\u001b[0m \u001b[0mlist\u001b[0m\u001b[0;34m(\u001b[0m\u001b[0mzip\u001b[0m\u001b[0;34m(\u001b[0m\u001b[0;34m*\u001b[0m\u001b[0mdata_set\u001b[0m\u001b[0;34m)\u001b[0m\u001b[0;34m)\u001b[0m\u001b[0;34m\u001b[0m\u001b[0m\n",
      "\u001b[0m\n",
      "ipdb> n\n",
      "> \u001b[0;32m/Users/josephmurphy/Documents/Stanford/Physics 108 (Winter 2018)/physics108/data_reduction.py\u001b[0m(130)\u001b[0;36mfind_kink_locs\u001b[0;34m()\u001b[0m\n",
      "\u001b[0;32m    128 \u001b[0;31m        \u001b[0;32mdef\u001b[0m \u001b[0mfind_kink_locs\u001b[0m\u001b[0;34m(\u001b[0m\u001b[0mself\u001b[0m\u001b[0;34m,\u001b[0m \u001b[0mdata_set\u001b[0m\u001b[0;34m)\u001b[0m\u001b[0;34m:\u001b[0m\u001b[0;34m\u001b[0m\u001b[0m\n",
      "\u001b[0m\u001b[0;32m    129 \u001b[0;31m\u001b[0;34m\u001b[0m\u001b[0m\n",
      "\u001b[0m\u001b[0;32m--> 130 \u001b[0;31m                \u001b[0mchan_1\u001b[0m\u001b[0;34m,\u001b[0m \u001b[0mchan_2\u001b[0m \u001b[0;34m=\u001b[0m \u001b[0mlist\u001b[0m\u001b[0;34m(\u001b[0m\u001b[0mzip\u001b[0m\u001b[0;34m(\u001b[0m\u001b[0;34m*\u001b[0m\u001b[0mdata_set\u001b[0m\u001b[0;34m)\u001b[0m\u001b[0;34m)\u001b[0m\u001b[0;34m\u001b[0m\u001b[0m\n",
      "\u001b[0m\u001b[0;32m    131 \u001b[0;31m\u001b[0;34m\u001b[0m\u001b[0m\n",
      "\u001b[0m\u001b[0;32m    132 \u001b[0;31m                \u001b[0mchan_2_diffs\u001b[0m \u001b[0;34m=\u001b[0m \u001b[0mnp\u001b[0m\u001b[0;34m.\u001b[0m\u001b[0mdiff\u001b[0m\u001b[0;34m(\u001b[0m\u001b[0mchan_2\u001b[0m\u001b[0;34m)\u001b[0m\u001b[0;34m\u001b[0m\u001b[0m\n",
      "\u001b[0m\n",
      "ipdb> n\n",
      "> \u001b[0;32m/Users/josephmurphy/Documents/Stanford/Physics 108 (Winter 2018)/physics108/data_reduction.py\u001b[0m(132)\u001b[0;36mfind_kink_locs\u001b[0;34m()\u001b[0m\n",
      "\u001b[0;32m    130 \u001b[0;31m                \u001b[0mchan_1\u001b[0m\u001b[0;34m,\u001b[0m \u001b[0mchan_2\u001b[0m \u001b[0;34m=\u001b[0m \u001b[0mlist\u001b[0m\u001b[0;34m(\u001b[0m\u001b[0mzip\u001b[0m\u001b[0;34m(\u001b[0m\u001b[0;34m*\u001b[0m\u001b[0mdata_set\u001b[0m\u001b[0;34m)\u001b[0m\u001b[0;34m)\u001b[0m\u001b[0;34m\u001b[0m\u001b[0m\n",
      "\u001b[0m\u001b[0;32m    131 \u001b[0;31m\u001b[0;34m\u001b[0m\u001b[0m\n",
      "\u001b[0m\u001b[0;32m--> 132 \u001b[0;31m                \u001b[0mchan_2_diffs\u001b[0m \u001b[0;34m=\u001b[0m \u001b[0mnp\u001b[0m\u001b[0;34m.\u001b[0m\u001b[0mdiff\u001b[0m\u001b[0;34m(\u001b[0m\u001b[0mchan_2\u001b[0m\u001b[0;34m)\u001b[0m\u001b[0;34m\u001b[0m\u001b[0m\n",
      "\u001b[0m\u001b[0;32m    133 \u001b[0;31m                \u001b[0mchan_1_diffs\u001b[0m \u001b[0;34m=\u001b[0m \u001b[0mnp\u001b[0m\u001b[0;34m.\u001b[0m\u001b[0mdiff\u001b[0m\u001b[0;34m(\u001b[0m\u001b[0mchan_1\u001b[0m\u001b[0;34m)\u001b[0m\u001b[0;34m\u001b[0m\u001b[0m\n",
      "\u001b[0m\u001b[0;32m    134 \u001b[0;31m\u001b[0;34m\u001b[0m\u001b[0m\n",
      "\u001b[0m\n",
      "ipdb> n\n",
      "> \u001b[0;32m/Users/josephmurphy/Documents/Stanford/Physics 108 (Winter 2018)/physics108/data_reduction.py\u001b[0m(133)\u001b[0;36mfind_kink_locs\u001b[0;34m()\u001b[0m\n",
      "\u001b[0;32m    131 \u001b[0;31m\u001b[0;34m\u001b[0m\u001b[0m\n",
      "\u001b[0m\u001b[0;32m    132 \u001b[0;31m                \u001b[0mchan_2_diffs\u001b[0m \u001b[0;34m=\u001b[0m \u001b[0mnp\u001b[0m\u001b[0;34m.\u001b[0m\u001b[0mdiff\u001b[0m\u001b[0;34m(\u001b[0m\u001b[0mchan_2\u001b[0m\u001b[0;34m)\u001b[0m\u001b[0;34m\u001b[0m\u001b[0m\n",
      "\u001b[0m\u001b[0;32m--> 133 \u001b[0;31m                \u001b[0mchan_1_diffs\u001b[0m \u001b[0;34m=\u001b[0m \u001b[0mnp\u001b[0m\u001b[0;34m.\u001b[0m\u001b[0mdiff\u001b[0m\u001b[0;34m(\u001b[0m\u001b[0mchan_1\u001b[0m\u001b[0;34m)\u001b[0m\u001b[0;34m\u001b[0m\u001b[0m\n",
      "\u001b[0m\u001b[0;32m    134 \u001b[0;31m\u001b[0;34m\u001b[0m\u001b[0m\n",
      "\u001b[0m\u001b[0;32m    135 \u001b[0;31m                \u001b[0;31m# Take element wise derivative\u001b[0m\u001b[0;34m\u001b[0m\u001b[0;34m\u001b[0m\u001b[0m\n",
      "\u001b[0m\n",
      "ipdb> n\n",
      "> \u001b[0;32m/Users/josephmurphy/Documents/Stanford/Physics 108 (Winter 2018)/physics108/data_reduction.py\u001b[0m(136)\u001b[0;36mfind_kink_locs\u001b[0;34m()\u001b[0m\n",
      "\u001b[0;32m    134 \u001b[0;31m\u001b[0;34m\u001b[0m\u001b[0m\n",
      "\u001b[0m\u001b[0;32m    135 \u001b[0;31m                \u001b[0;31m# Take element wise derivative\u001b[0m\u001b[0;34m\u001b[0m\u001b[0;34m\u001b[0m\u001b[0m\n",
      "\u001b[0m\u001b[0;32m--> 136 \u001b[0;31m                \u001b[0mchan_1_diffs\u001b[0m \u001b[0;34m=\u001b[0m \u001b[0mchan_1_diffs\u001b[0m \u001b[0;34m+\u001b[0m \u001b[0;36m1e-10\u001b[0m \u001b[0;31m# Padding so we don't divide by zero\u001b[0m\u001b[0;34m\u001b[0m\u001b[0m\n",
      "\u001b[0m\u001b[0;32m    137 \u001b[0;31m                \u001b[0md_dx\u001b[0m \u001b[0;34m=\u001b[0m \u001b[0mnp\u001b[0m\u001b[0;34m.\u001b[0m\u001b[0mdivide\u001b[0m\u001b[0;34m(\u001b[0m\u001b[0mchan_2_diffs\u001b[0m\u001b[0;34m,\u001b[0m \u001b[0mchan_1_diffs\u001b[0m\u001b[0;34m)\u001b[0m\u001b[0;34m\u001b[0m\u001b[0m\n",
      "\u001b[0m\u001b[0;32m    138 \u001b[0;31m\u001b[0;34m\u001b[0m\u001b[0m\n",
      "\u001b[0m\n",
      "ipdb> n\n",
      "> \u001b[0;32m/Users/josephmurphy/Documents/Stanford/Physics 108 (Winter 2018)/physics108/data_reduction.py\u001b[0m(137)\u001b[0;36mfind_kink_locs\u001b[0;34m()\u001b[0m\n",
      "\u001b[0;32m    135 \u001b[0;31m                \u001b[0;31m# Take element wise derivative\u001b[0m\u001b[0;34m\u001b[0m\u001b[0;34m\u001b[0m\u001b[0m\n",
      "\u001b[0m\u001b[0;32m    136 \u001b[0;31m                \u001b[0mchan_1_diffs\u001b[0m \u001b[0;34m=\u001b[0m \u001b[0mchan_1_diffs\u001b[0m \u001b[0;34m+\u001b[0m \u001b[0;36m1e-10\u001b[0m \u001b[0;31m# Padding so we don't divide by zero\u001b[0m\u001b[0;34m\u001b[0m\u001b[0m\n",
      "\u001b[0m\u001b[0;32m--> 137 \u001b[0;31m                \u001b[0md_dx\u001b[0m \u001b[0;34m=\u001b[0m \u001b[0mnp\u001b[0m\u001b[0;34m.\u001b[0m\u001b[0mdivide\u001b[0m\u001b[0;34m(\u001b[0m\u001b[0mchan_2_diffs\u001b[0m\u001b[0;34m,\u001b[0m \u001b[0mchan_1_diffs\u001b[0m\u001b[0;34m)\u001b[0m\u001b[0;34m\u001b[0m\u001b[0m\n",
      "\u001b[0m\u001b[0;32m    138 \u001b[0;31m\u001b[0;34m\u001b[0m\u001b[0m\n",
      "\u001b[0m\u001b[0;32m    139 \u001b[0;31m                \u001b[0;31m# np.diff reduces the size of the input array by 1, so just cutoff the first value in the data set\u001b[0m\u001b[0;34m\u001b[0m\u001b[0;34m\u001b[0m\u001b[0m\n",
      "\u001b[0m\n",
      "ipdb> n\n",
      "> \u001b[0;32m/Users/josephmurphy/Documents/Stanford/Physics 108 (Winter 2018)/physics108/data_reduction.py\u001b[0m(145)\u001b[0;36mfind_kink_locs\u001b[0;34m()\u001b[0m\n",
      "\u001b[0;32m    143 \u001b[0;31m\u001b[0;34m\u001b[0m\u001b[0m\n",
      "\u001b[0m\u001b[0;32m    144 \u001b[0;31m                \u001b[0;31m# Find the index of the element in chan_1 that is closest to zero\u001b[0m\u001b[0;34m\u001b[0m\u001b[0;34m\u001b[0m\u001b[0m\n",
      "\u001b[0m\u001b[0;32m--> 145 \u001b[0;31m                \u001b[0midx_zero\u001b[0m \u001b[0;34m=\u001b[0m \u001b[0;34m(\u001b[0m\u001b[0mnp\u001b[0m\u001b[0;34m.\u001b[0m\u001b[0mabs\u001b[0m\u001b[0;34m(\u001b[0m\u001b[0mchan_1\u001b[0m\u001b[0;34m[\u001b[0m\u001b[0;36m1\u001b[0m\u001b[0;34m:\u001b[0m\u001b[0;34m]\u001b[0m\u001b[0;34m)\u001b[0m\u001b[0;34m)\u001b[0m\u001b[0;34m.\u001b[0m\u001b[0margmin\u001b[0m\u001b[0;34m(\u001b[0m\u001b[0;34m)\u001b[0m\u001b[0;34m\u001b[0m\u001b[0m\n",
      "\u001b[0m\u001b[0;32m    146 \u001b[0;31m\u001b[0;34m\u001b[0m\u001b[0m\n",
      "\u001b[0m\u001b[0;32m    147 \u001b[0;31m                \u001b[0msuper_slope\u001b[0m \u001b[0;34m=\u001b[0m \u001b[0mnp\u001b[0m\u001b[0;34m.\u001b[0m\u001b[0mmean\u001b[0m\u001b[0;34m(\u001b[0m\u001b[0md_dx\u001b[0m\u001b[0;34m[\u001b[0m\u001b[0midx_zero\u001b[0m \u001b[0;34m-\u001b[0m \u001b[0;36m1\u001b[0m\u001b[0;34m:\u001b[0m\u001b[0midx_zero\u001b[0m \u001b[0;34m+\u001b[0m \u001b[0;36m1\u001b[0m\u001b[0;34m]\u001b[0m\u001b[0;34m)\u001b[0m\u001b[0;34m\u001b[0m\u001b[0m\n",
      "\u001b[0m\n",
      "ipdb> d_dx\n",
      "array([ 0.01169339,  0.0119691 ,  0.01156072,  0.01249396,  0.01172718,\n",
      "        0.01164517,  0.01298342,  0.01148471,  0.00265374,  0.01022961,\n",
      "        0.01215339,  0.01236688,  0.01253831,  0.01196191])\n",
      "ipdb> chan_2_diffs\n",
      "array([ 0.01241509,  0.01274522,  0.01230133,  0.01316746,  0.01334883,\n",
      "        0.0152297 ,  0.0180145 ,  0.01641058,  0.00373597,  0.01453724,\n",
      "        0.01768888,  0.01739092,  0.01727936,  0.02098942])\n",
      "ipdb> chan_1_diffs\n",
      "array([ 1.06171875,  1.06484375,  1.0640625 ,  1.05390625,  1.13828125,\n",
      "        1.3078125 ,  1.3875    ,  1.42890625,  1.4078125 ,  1.42109375,\n",
      "        1.45546875,  1.40625   ,  1.378125  ,  1.7546875 ])\n",
      "ipdb> n\n",
      "> \u001b[0;32m/Users/josephmurphy/Documents/Stanford/Physics 108 (Winter 2018)/physics108/data_reduction.py\u001b[0m(147)\u001b[0;36mfind_kink_locs\u001b[0;34m()\u001b[0m\n",
      "\u001b[0;32m    145 \u001b[0;31m                \u001b[0midx_zero\u001b[0m \u001b[0;34m=\u001b[0m \u001b[0;34m(\u001b[0m\u001b[0mnp\u001b[0m\u001b[0;34m.\u001b[0m\u001b[0mabs\u001b[0m\u001b[0;34m(\u001b[0m\u001b[0mchan_1\u001b[0m\u001b[0;34m[\u001b[0m\u001b[0;36m1\u001b[0m\u001b[0;34m:\u001b[0m\u001b[0;34m]\u001b[0m\u001b[0;34m)\u001b[0m\u001b[0;34m)\u001b[0m\u001b[0;34m.\u001b[0m\u001b[0margmin\u001b[0m\u001b[0;34m(\u001b[0m\u001b[0;34m)\u001b[0m\u001b[0;34m\u001b[0m\u001b[0m\n",
      "\u001b[0m\u001b[0;32m    146 \u001b[0;31m\u001b[0;34m\u001b[0m\u001b[0m\n",
      "\u001b[0m\u001b[0;32m--> 147 \u001b[0;31m                \u001b[0msuper_slope\u001b[0m \u001b[0;34m=\u001b[0m \u001b[0mnp\u001b[0m\u001b[0;34m.\u001b[0m\u001b[0mmean\u001b[0m\u001b[0;34m(\u001b[0m\u001b[0md_dx\u001b[0m\u001b[0;34m[\u001b[0m\u001b[0midx_zero\u001b[0m \u001b[0;34m-\u001b[0m \u001b[0;36m1\u001b[0m\u001b[0;34m:\u001b[0m\u001b[0midx_zero\u001b[0m \u001b[0;34m+\u001b[0m \u001b[0;36m1\u001b[0m\u001b[0;34m]\u001b[0m\u001b[0;34m)\u001b[0m\u001b[0;34m\u001b[0m\u001b[0m\n",
      "\u001b[0m\u001b[0;32m    148 \u001b[0;31m\u001b[0;34m\u001b[0m\u001b[0m\n",
      "\u001b[0m\u001b[0;32m    149 \u001b[0;31m                \u001b[0mslopes\u001b[0m \u001b[0;34m=\u001b[0m \u001b[0md_dx\u001b[0m \u001b[0;34m-\u001b[0m \u001b[0msuper_slope\u001b[0m\u001b[0;34m\u001b[0m\u001b[0m\n",
      "\u001b[0m\n",
      "ipdb> idx_zero\n",
      "7\n",
      "ipdb> super\n",
      "<class 'super'>\n",
      "ipdb> n\n",
      "> \u001b[0;32m/Users/josephmurphy/Documents/Stanford/Physics 108 (Winter 2018)/physics108/data_reduction.py\u001b[0m(149)\u001b[0;36mfind_kink_locs\u001b[0;34m()\u001b[0m\n",
      "\u001b[0;32m    147 \u001b[0;31m                \u001b[0msuper_slope\u001b[0m \u001b[0;34m=\u001b[0m \u001b[0mnp\u001b[0m\u001b[0;34m.\u001b[0m\u001b[0mmean\u001b[0m\u001b[0;34m(\u001b[0m\u001b[0md_dx\u001b[0m\u001b[0;34m[\u001b[0m\u001b[0midx_zero\u001b[0m \u001b[0;34m-\u001b[0m \u001b[0;36m1\u001b[0m\u001b[0;34m:\u001b[0m\u001b[0midx_zero\u001b[0m \u001b[0;34m+\u001b[0m \u001b[0;36m1\u001b[0m\u001b[0;34m]\u001b[0m\u001b[0;34m)\u001b[0m\u001b[0;34m\u001b[0m\u001b[0m\n",
      "\u001b[0m\u001b[0;32m    148 \u001b[0;31m\u001b[0;34m\u001b[0m\u001b[0m\n",
      "\u001b[0m\u001b[0;32m--> 149 \u001b[0;31m                \u001b[0mslopes\u001b[0m \u001b[0;34m=\u001b[0m \u001b[0md_dx\u001b[0m \u001b[0;34m-\u001b[0m \u001b[0msuper_slope\u001b[0m\u001b[0;34m\u001b[0m\u001b[0m\n",
      "\u001b[0m\u001b[0;32m    150 \u001b[0;31m\u001b[0;34m\u001b[0m\u001b[0m\n",
      "\u001b[0m\u001b[0;32m    151 \u001b[0;31m                \u001b[0mthreshold\u001b[0m \u001b[0;34m=\u001b[0m \u001b[0;36m5\u001b[0m \u001b[0;34m*\u001b[0m \u001b[0msuper_slope\u001b[0m\u001b[0;34m\u001b[0m\u001b[0m\n",
      "\u001b[0m\n",
      "ipdb> super_slope\n",
      "0.012234067066746589\n",
      "ipdb> n\n",
      "> \u001b[0;32m/Users/josephmurphy/Documents/Stanford/Physics 108 (Winter 2018)/physics108/data_reduction.py\u001b[0m(151)\u001b[0;36mfind_kink_locs\u001b[0;34m()\u001b[0m\n",
      "\u001b[0;32m    149 \u001b[0;31m                \u001b[0mslopes\u001b[0m \u001b[0;34m=\u001b[0m \u001b[0md_dx\u001b[0m \u001b[0;34m-\u001b[0m \u001b[0msuper_slope\u001b[0m\u001b[0;34m\u001b[0m\u001b[0m\n",
      "\u001b[0m\u001b[0;32m    150 \u001b[0;31m\u001b[0;34m\u001b[0m\u001b[0m\n",
      "\u001b[0m\u001b[0;32m--> 151 \u001b[0;31m                \u001b[0mthreshold\u001b[0m \u001b[0;34m=\u001b[0m \u001b[0;36m5\u001b[0m \u001b[0;34m*\u001b[0m \u001b[0msuper_slope\u001b[0m\u001b[0;34m\u001b[0m\u001b[0m\n",
      "\u001b[0m\u001b[0;32m    152 \u001b[0;31m\u001b[0;34m\u001b[0m\u001b[0m\n",
      "\u001b[0m\u001b[0;32m    153 \u001b[0;31m                \u001b[0mslope_diffs\u001b[0m \u001b[0;34m=\u001b[0m \u001b[0mnp\u001b[0m\u001b[0;34m.\u001b[0m\u001b[0mdiff\u001b[0m\u001b[0;34m(\u001b[0m\u001b[0mslopes\u001b[0m\u001b[0;34m)\u001b[0m\u001b[0;34m\u001b[0m\u001b[0m\n",
      "\u001b[0m\n",
      "ipdb> slopes\n",
      "array([ -5.40679582e-04,  -2.64970391e-04,  -6.73342388e-04,\n",
      "         2.59892656e-04,  -5.06883861e-04,  -5.88896166e-04,\n",
      "         7.49354316e-04,  -7.49354316e-04,  -9.58032691e-03,\n",
      "        -2.00445599e-03,  -8.06784222e-05,   1.32811290e-04,\n",
      "         3.04246630e-04,  -2.72154995e-04])\n",
      "ipdb> d_dx\n",
      "array([ 0.01169339,  0.0119691 ,  0.01156072,  0.01249396,  0.01172718,\n",
      "        0.01164517,  0.01298342,  0.01148471,  0.00265374,  0.01022961,\n",
      "        0.01215339,  0.01236688,  0.01253831,  0.01196191])\n",
      "ipdb> super_slope\n",
      "0.012234067066746589\n",
      "ipdb> quit()\n",
      "Exiting Debugger.\n"
     ]
    }
   ],
   "source": [
    "mod_no_linear_trend_list = []\n",
    "\n",
    "for sheet in mod_DataSheets:\n",
    "    Tracer()()\n",
    "    mod_no_linear_trend_list.append(sheet.linear_gnd_trend(sheet.combined_set))"
   ]
  },
  {
   "cell_type": "code",
   "execution_count": 11,
   "metadata": {
    "collapsed": false
   },
   "outputs": [
    {
     "name": "stdout",
     "output_type": "stream",
     "text": [
      "300\n"
     ]
    },
    {
     "data": {
      "image/png": "[encoded data removed]",
      "text/plain": [
       "<matplotlib.figure.Figure at 0x110d69400>"
      ]
     },
     "metadata": {},
     "output_type": "display_data"
    }
   ],
   "source": [
    "chan_1_no_lin, chan_2_no_lin = zip(*mod_no_linear_trend_list[0][0])\n",
    "plt.scatter(chan_1_no_lin[mod_no_linear_trend_list[0][3]], 0, color='red')\n",
    "#plt.scatter(mod_no_linear_trend_list[0][4], 0, color='red')\n",
    "plt.plot(chan_1_no_lin, chan_2_no_lin)\n",
    "print(len(chan_2_no_lin))\n",
    "plt.show()"
   ]
  },
  {
   "cell_type": "code",
   "execution_count": 15,
   "metadata": {
    "collapsed": false
   },
   "outputs": [
    {
     "name": "stdout",
     "output_type": "stream",
     "text": [
      "15\n"
     ]
    },
    {
     "data": {
      "image/png": "[encoded data removed]",
      "text/plain": [
       "<matplotlib.figure.Figure at 0x113484b00>"
      ]
     },
     "metadata": {},
     "output_type": "display_data"
    }
   ],
   "source": [
    "chan_1, chan_2 = zip(*mod_DataSheets[0].combined_set)\n",
    "plt.plot(chan_1, chan_2, 'o--')\n",
    "#plt.scatter(chan_1[mod_no_linear_trend_list[0][3]], 0, color='red')\n",
    "#plt.scatter(mod_no_linear_trend_list[0][4], 0, color='red')\n",
    "print(len(chan_2))\n",
    "plt.show()"
   ]
  },
  {
   "cell_type": "markdown",
   "metadata": {},
   "source": [
    "## Need to fix linear trend subtraction routine. idx_zero is wrong way to think about it bc flat region may not be at zero."
   ]
  },
  {
   "cell_type": "code",
   "execution_count": null,
   "metadata": {
    "collapsed": true
   },
   "outputs": [],
   "source": []
  }
 ],
 "metadata": {
  "kernelspec": {
   "display_name": "Python 3",
   "language": "python",
   "name": "python3"
  },
  "language_info": {
   "codemirror_mode": {
    "name": "ipython",
    "version": 3
   },
   "file_extension": ".py",
   "mimetype": "text/x-python",
   "name": "python",
   "nbconvert_exporter": "python",
   "pygments_lexer": "ipython3",
   "version": "3.5.3"
  }
 },
 "nbformat": 4,
 "nbformat_minor": 0
}
